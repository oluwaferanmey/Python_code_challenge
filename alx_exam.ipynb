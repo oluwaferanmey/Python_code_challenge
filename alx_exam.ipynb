{
 "cells": [
  {
   "cell_type": "code",
   "execution_count": 1,
   "id": "d68eb3b0",
   "metadata": {},
   "outputs": [],
   "source": [
    "import pandas as pd\n"
   ]
  },
  {
   "cell_type": "code",
   "execution_count": 2,
   "id": "f7ced895",
   "metadata": {},
   "outputs": [],
   "source": [
    "df = pd.read_csv('MD_agric_exam-4313.csv')"
   ]
  },
  {
   "cell_type": "code",
   "execution_count": 3,
   "id": "f92ffdad",
   "metadata": {},
   "outputs": [
    {
     "data": {
      "text/html": [
       "<div>\n",
       "<style scoped>\n",
       "    .dataframe tbody tr th:only-of-type {\n",
       "        vertical-align: middle;\n",
       "    }\n",
       "\n",
       "    .dataframe tbody tr th {\n",
       "        vertical-align: top;\n",
       "    }\n",
       "\n",
       "    .dataframe thead th {\n",
       "        text-align: right;\n",
       "    }\n",
       "</style>\n",
       "<table border=\"1\" class=\"dataframe\">\n",
       "  <thead>\n",
       "    <tr style=\"text-align: right;\">\n",
       "      <th></th>\n",
       "      <th>Field_ID</th>\n",
       "      <th>Elevation</th>\n",
       "      <th>Rainfall</th>\n",
       "      <th>Min_temperature_C</th>\n",
       "      <th>Max_temperature_C</th>\n",
       "      <th>pH</th>\n",
       "      <th>Pollution_level</th>\n",
       "      <th>Plot_size</th>\n",
       "      <th>Annual_yield</th>\n",
       "      <th>Crop_type</th>\n",
       "    </tr>\n",
       "  </thead>\n",
       "  <tbody>\n",
       "    <tr>\n",
       "      <th>0</th>\n",
       "      <td>1162</td>\n",
       "      <td>494.95615</td>\n",
       "      <td>1507.6</td>\n",
       "      <td>-5.4</td>\n",
       "      <td>31.0</td>\n",
       "      <td>6.859436</td>\n",
       "      <td>0.007034</td>\n",
       "      <td>3.6</td>\n",
       "      <td>1.617421</td>\n",
       "      <td>coffee</td>\n",
       "    </tr>\n",
       "    <tr>\n",
       "      <th>1</th>\n",
       "      <td>5108</td>\n",
       "      <td>663.73390</td>\n",
       "      <td>581.0</td>\n",
       "      <td>-4.7</td>\n",
       "      <td>30.9</td>\n",
       "      <td>5.603219</td>\n",
       "      <td>0.289643</td>\n",
       "      <td>4.2</td>\n",
       "      <td>2.532497</td>\n",
       "      <td>potato</td>\n",
       "    </tr>\n",
       "    <tr>\n",
       "      <th>2</th>\n",
       "      <td>3504</td>\n",
       "      <td>396.87990</td>\n",
       "      <td>1715.1</td>\n",
       "      <td>-6.1</td>\n",
       "      <td>31.7</td>\n",
       "      <td>5.774116</td>\n",
       "      <td>0.000409</td>\n",
       "      <td>2.6</td>\n",
       "      <td>1.262207</td>\n",
       "      <td>banana</td>\n",
       "    </tr>\n",
       "    <tr>\n",
       "      <th>3</th>\n",
       "      <td>5351</td>\n",
       "      <td>594.80370</td>\n",
       "      <td>1748.0</td>\n",
       "      <td>-4.3</td>\n",
       "      <td>33.6</td>\n",
       "      <td>6.477415</td>\n",
       "      <td>0.088777</td>\n",
       "      <td>7.9</td>\n",
       "      <td>4.351564</td>\n",
       "      <td>wheat</td>\n",
       "    </tr>\n",
       "    <tr>\n",
       "      <th>4</th>\n",
       "      <td>905</td>\n",
       "      <td>609.49800</td>\n",
       "      <td>1395.8</td>\n",
       "      <td>-4.5</td>\n",
       "      <td>31.3</td>\n",
       "      <td>5.419586</td>\n",
       "      <td>0.050023</td>\n",
       "      <td>10.8</td>\n",
       "      <td>5.034791</td>\n",
       "      <td>cassava</td>\n",
       "    </tr>\n",
       "  </tbody>\n",
       "</table>\n",
       "</div>"
      ],
      "text/plain": [
       "   Field_ID  Elevation  Rainfall  Min_temperature_C  Max_temperature_C  \\\n",
       "0      1162  494.95615    1507.6               -5.4               31.0   \n",
       "1      5108  663.73390     581.0               -4.7               30.9   \n",
       "2      3504  396.87990    1715.1               -6.1               31.7   \n",
       "3      5351  594.80370    1748.0               -4.3               33.6   \n",
       "4       905  609.49800    1395.8               -4.5               31.3   \n",
       "\n",
       "         pH  Pollution_level  Plot_size  Annual_yield Crop_type  \n",
       "0  6.859436         0.007034        3.6      1.617421    coffee  \n",
       "1  5.603219         0.289643        4.2      2.532497    potato  \n",
       "2  5.774116         0.000409        2.6      1.262207    banana  \n",
       "3  6.477415         0.088777        7.9      4.351564     wheat  \n",
       "4  5.419586         0.050023       10.8      5.034791   cassava  "
      ]
     },
     "execution_count": 3,
     "metadata": {},
     "output_type": "execute_result"
    }
   ],
   "source": [
    "df.head()"
   ]
  },
  {
   "cell_type": "code",
   "execution_count": 4,
   "id": "2ab2464b",
   "metadata": {},
   "outputs": [
    {
     "data": {
      "text/html": [
       "<div>\n",
       "<style scoped>\n",
       "    .dataframe tbody tr th:only-of-type {\n",
       "        vertical-align: middle;\n",
       "    }\n",
       "\n",
       "    .dataframe tbody tr th {\n",
       "        vertical-align: top;\n",
       "    }\n",
       "\n",
       "    .dataframe thead th {\n",
       "        text-align: right;\n",
       "    }\n",
       "</style>\n",
       "<table border=\"1\" class=\"dataframe\">\n",
       "  <thead>\n",
       "    <tr style=\"text-align: right;\">\n",
       "      <th></th>\n",
       "      <th>count</th>\n",
       "      <th>mean</th>\n",
       "      <th>std</th>\n",
       "      <th>min</th>\n",
       "      <th>10%</th>\n",
       "      <th>25%</th>\n",
       "      <th>50%</th>\n",
       "      <th>80%</th>\n",
       "      <th>95%</th>\n",
       "      <th>max</th>\n",
       "    </tr>\n",
       "  </thead>\n",
       "  <tbody>\n",
       "    <tr>\n",
       "      <th>Field_ID</th>\n",
       "      <td>1000.0</td>\n",
       "      <td>2779.486000</td>\n",
       "      <td>1595.068372</td>\n",
       "      <td>1.000000e+00</td>\n",
       "      <td>609.900000</td>\n",
       "      <td>1442.250000</td>\n",
       "      <td>2728.500000</td>\n",
       "      <td>4422.600000</td>\n",
       "      <td>5354.000000</td>\n",
       "      <td>5632.000000</td>\n",
       "    </tr>\n",
       "    <tr>\n",
       "      <th>Elevation</th>\n",
       "      <td>1000.0</td>\n",
       "      <td>628.136035</td>\n",
       "      <td>179.098546</td>\n",
       "      <td>3.591080e+01</td>\n",
       "      <td>377.879113</td>\n",
       "      <td>504.392825</td>\n",
       "      <td>657.468975</td>\n",
       "      <td>785.347230</td>\n",
       "      <td>882.445983</td>\n",
       "      <td>1003.943700</td>\n",
       "    </tr>\n",
       "    <tr>\n",
       "      <th>Rainfall</th>\n",
       "      <td>1000.0</td>\n",
       "      <td>1197.734700</td>\n",
       "      <td>497.794699</td>\n",
       "      <td>1.101000e+02</td>\n",
       "      <td>545.140000</td>\n",
       "      <td>771.575000</td>\n",
       "      <td>1194.900000</td>\n",
       "      <td>1678.860000</td>\n",
       "      <td>1982.425000</td>\n",
       "      <td>2408.500000</td>\n",
       "    </tr>\n",
       "    <tr>\n",
       "      <th>Min_temperature_C</th>\n",
       "      <td>1000.0</td>\n",
       "      <td>-4.504100</td>\n",
       "      <td>1.568117</td>\n",
       "      <td>-9.700000e+00</td>\n",
       "      <td>-6.600000</td>\n",
       "      <td>-5.600000</td>\n",
       "      <td>-4.400000</td>\n",
       "      <td>-3.100000</td>\n",
       "      <td>-2.100000</td>\n",
       "      <td>-1.200000</td>\n",
       "    </tr>\n",
       "    <tr>\n",
       "      <th>Max_temperature_C</th>\n",
       "      <td>1000.0</td>\n",
       "      <td>30.894600</td>\n",
       "      <td>1.922250</td>\n",
       "      <td>2.510000e+01</td>\n",
       "      <td>28.400000</td>\n",
       "      <td>29.575000</td>\n",
       "      <td>30.900000</td>\n",
       "      <td>32.600000</td>\n",
       "      <td>34.100000</td>\n",
       "      <td>37.300000</td>\n",
       "    </tr>\n",
       "    <tr>\n",
       "      <th>pH</th>\n",
       "      <td>1000.0</td>\n",
       "      <td>5.603899</td>\n",
       "      <td>0.802154</td>\n",
       "      <td>3.701838e+00</td>\n",
       "      <td>4.561172</td>\n",
       "      <td>5.018775</td>\n",
       "      <td>5.562078</td>\n",
       "      <td>6.357398</td>\n",
       "      <td>7.006921</td>\n",
       "      <td>7.484683</td>\n",
       "    </tr>\n",
       "    <tr>\n",
       "      <th>Pollution_level</th>\n",
       "      <td>1000.0</td>\n",
       "      <td>0.223374</td>\n",
       "      <td>0.228866</td>\n",
       "      <td>5.397448e-10</td>\n",
       "      <td>0.007087</td>\n",
       "      <td>0.044494</td>\n",
       "      <td>0.166196</td>\n",
       "      <td>0.348362</td>\n",
       "      <td>0.785342</td>\n",
       "      <td>0.995413</td>\n",
       "    </tr>\n",
       "    <tr>\n",
       "      <th>Plot_size</th>\n",
       "      <td>1000.0</td>\n",
       "      <td>3.962400</td>\n",
       "      <td>3.459036</td>\n",
       "      <td>5.000000e-01</td>\n",
       "      <td>0.900000</td>\n",
       "      <td>1.500000</td>\n",
       "      <td>2.900000</td>\n",
       "      <td>5.300000</td>\n",
       "      <td>12.205000</td>\n",
       "      <td>15.000000</td>\n",
       "    </tr>\n",
       "    <tr>\n",
       "      <th>Annual_yield</th>\n",
       "      <td>1000.0</td>\n",
       "      <td>2.101536</td>\n",
       "      <td>1.926694</td>\n",
       "      <td>1.748574e-01</td>\n",
       "      <td>0.480309</td>\n",
       "      <td>0.786612</td>\n",
       "      <td>1.478622</td>\n",
       "      <td>2.967640</td>\n",
       "      <td>6.508411</td>\n",
       "      <td>12.695224</td>\n",
       "    </tr>\n",
       "  </tbody>\n",
       "</table>\n",
       "</div>"
      ],
      "text/plain": [
       "                    count         mean          std           min         10%  \\\n",
       "Field_ID           1000.0  2779.486000  1595.068372  1.000000e+00  609.900000   \n",
       "Elevation          1000.0   628.136035   179.098546  3.591080e+01  377.879113   \n",
       "Rainfall           1000.0  1197.734700   497.794699  1.101000e+02  545.140000   \n",
       "Min_temperature_C  1000.0    -4.504100     1.568117 -9.700000e+00   -6.600000   \n",
       "Max_temperature_C  1000.0    30.894600     1.922250  2.510000e+01   28.400000   \n",
       "pH                 1000.0     5.603899     0.802154  3.701838e+00    4.561172   \n",
       "Pollution_level    1000.0     0.223374     0.228866  5.397448e-10    0.007087   \n",
       "Plot_size          1000.0     3.962400     3.459036  5.000000e-01    0.900000   \n",
       "Annual_yield       1000.0     2.101536     1.926694  1.748574e-01    0.480309   \n",
       "\n",
       "                           25%          50%          80%          95%  \\\n",
       "Field_ID           1442.250000  2728.500000  4422.600000  5354.000000   \n",
       "Elevation           504.392825   657.468975   785.347230   882.445983   \n",
       "Rainfall            771.575000  1194.900000  1678.860000  1982.425000   \n",
       "Min_temperature_C    -5.600000    -4.400000    -3.100000    -2.100000   \n",
       "Max_temperature_C    29.575000    30.900000    32.600000    34.100000   \n",
       "pH                    5.018775     5.562078     6.357398     7.006921   \n",
       "Pollution_level       0.044494     0.166196     0.348362     0.785342   \n",
       "Plot_size             1.500000     2.900000     5.300000    12.205000   \n",
       "Annual_yield          0.786612     1.478622     2.967640     6.508411   \n",
       "\n",
       "                           max  \n",
       "Field_ID           5632.000000  \n",
       "Elevation          1003.943700  \n",
       "Rainfall           2408.500000  \n",
       "Min_temperature_C    -1.200000  \n",
       "Max_temperature_C    37.300000  \n",
       "pH                    7.484683  \n",
       "Pollution_level       0.995413  \n",
       "Plot_size            15.000000  \n",
       "Annual_yield         12.695224  "
      ]
     },
     "execution_count": 4,
     "metadata": {},
     "output_type": "execute_result"
    }
   ],
   "source": [
    "df.describe([0.1,0.25,0.5,0.8,0.95]).T"
   ]
  },
  {
   "cell_type": "code",
   "execution_count": 5,
   "id": "56b76841",
   "metadata": {},
   "outputs": [
    {
     "data": {
      "text/plain": [
       "8"
      ]
     },
     "execution_count": 5,
     "metadata": {},
     "output_type": "execute_result"
    }
   ],
   "source": [
    "#Write code to determine the number of unique crop types in the dataset?\n",
    "df['Crop_type'].nunique()"
   ]
  },
  {
   "cell_type": "code",
   "execution_count": 6,
   "id": "cf6afe37",
   "metadata": {},
   "outputs": [
    {
     "data": {
      "text/plain": [
       "8.99"
      ]
     },
     "execution_count": 6,
     "metadata": {},
     "output_type": "execute_result"
    }
   ],
   "source": [
    "#Identify the maximum annual yield for \"wheat\" crop type in the dataset (rounded to 2 decimal places).\n",
    "y = df[df['Crop_type'] == 'wheat'] \n",
    "#\n",
    "round(y['Annual_yield'].max(),2)"
   ]
  },
  {
   "cell_type": "code",
   "execution_count": 7,
   "id": "2a923025",
   "metadata": {},
   "outputs": [
    {
     "name": "stdout",
     "output_type": "stream",
     "text": [
      "1197734.7000000002\n"
     ]
    }
   ],
   "source": [
    "# Calculate the average pollution level\n",
    "average_pollution = df['Pollution_level'].mean()\n",
    "\n",
    "# Check if the average pollution level is above 0.2\n",
    "if average_pollution > 0.2:\n",
    "    # If the average pollution level is above 0.2, then find the total rainfall for crop types\n",
    "    total_rainfall = df.groupby('Crop_type')['Rainfall'].sum()\n",
    "    print(total_rainfall.sum())\n",
    "else:\n",
    "    # If the average pollution level is not above 0.2, print a message indicating so\n",
    "    print(\"Average pollution level is not above 0.2\")\n"
   ]
  },
  {
   "cell_type": "code",
   "execution_count": 8,
   "id": "4e44777b",
   "metadata": {},
   "outputs": [
    {
     "name": "stdout",
     "output_type": "stream",
     "text": [
      "Temperature range for Field_ID 1458: 135    40.7\n",
      "dtype: float64\n",
      "Temperature range for Field_ID 1895: 644    35.7\n",
      "dtype: float64\n",
      "Temperature range for Field_ID 5443: 892    33.4\n",
      "dtype: float64\n"
     ]
    }
   ],
   "source": [
    "def temperature_range(Field_ID):\n",
    "    # Filter the DataFrame by the specified Field_ID\n",
    "    field_data = df[df['Field_ID'] == Field_ID]\n",
    "    \n",
    "    # Calculate the temperature range for the field\n",
    "    temp_range = field_data['Max_temperature_C'] - field_data['Min_temperature_C']\n",
    "    \n",
    "    return temp_range\n",
    "\n",
    "# Call the function with the specified Field_IDs: 1458, 1895, and 5443\n",
    "field_1458_range = temperature_range(1458)\n",
    "field_1895_range = temperature_range(1895)\n",
    "field_5443_range = temperature_range(5443)\n",
    "\n",
    "# Print the results of the calls\n",
    "print(\"Temperature range for Field_ID 1458:\", field_1458_range)\n",
    "print(\"Temperature range for Field_ID 1895:\", field_1895_range)\n",
    "print(\"Temperature range for Field_ID 5443:\", field_5443_range)\n"
   ]
  },
  {
   "cell_type": "code",
   "execution_count": 9,
   "id": "64b4d7bb",
   "metadata": {},
   "outputs": [],
   "source": [
    "def temperature_range(Field_ID):\n",
    "    field_data = df[df['Field_ID'] == Field_ID]\n",
    "    Max_temperature_C = df['Max_temperature_C']\n",
    "    Min_temperature_C = df['Min_temperature_C']\n",
    "    temp_range = (Max_temperature_C - Min_temperature_C)\n",
    "    return temp_range\n",
    "\n"
   ]
  },
  {
   "cell_type": "code",
   "execution_count": 10,
   "id": "2481cb39",
   "metadata": {},
   "outputs": [
    {
     "name": "stdout",
     "output_type": "stream",
     "text": [
      "Temperature range for Field_ID 1458: 0      36.4\n",
      "1      35.6\n",
      "2      37.8\n",
      "3      37.9\n",
      "4      35.8\n",
      "       ... \n",
      "995    36.5\n",
      "996    39.3\n",
      "997    36.3\n",
      "998    34.5\n",
      "999    34.7\n",
      "Length: 1000, dtype: float64\n"
     ]
    }
   ],
   "source": [
    "field_1458_range = temperature_range(1458)\n",
    "print(\"Temperature range for Field_ID 1458:\", field_1458_range)"
   ]
  },
  {
   "cell_type": "code",
   "execution_count": 11,
   "id": "673549c7",
   "metadata": {},
   "outputs": [
    {
     "name": "stdout",
     "output_type": "stream",
     "text": [
      "rice\n"
     ]
    }
   ],
   "source": [
    "a = df['Crop_type'].unique()\n",
    "\n",
    "b = float('inf')\n",
    "\n",
    "c = ''\n",
    "\n",
    "for crop in a:\n",
    "\n",
    "    d = df[df['Crop_type'] == crop]['Min_temperature_C'].mean()\n",
    "\n",
    "    if d < b:\n",
    "\n",
    "        b = d\n",
    "\n",
    "        c = crop\n",
    "\n",
    "print(c)"
   ]
  },
  {
   "cell_type": "code",
   "execution_count": null,
   "id": "eaba1f4a",
   "metadata": {},
   "outputs": [],
   "source": []
  },
  {
   "cell_type": "code",
   "execution_count": 12,
   "id": "740a1456",
   "metadata": {},
   "outputs": [
    {
     "name": "stdout",
     "output_type": "stream",
     "text": [
      "Field_ID                                                       1308606\n",
      "Elevation                                                 324440.08772\n",
      "Rainfall                                                      555427.1\n",
      "Min_temperature_C                                              -1847.9\n",
      "Max_temperature_C                                              14284.4\n",
      "pH                                                         2305.261648\n",
      "Pollution_level                                             115.958912\n",
      "Plot_size                                                       1731.9\n",
      "Annual_yield                                                934.247461\n",
      "Crop_type            cassavawheatwheatwheatpotatocassavapotatowheat...\n",
      "dtype: object\n"
     ]
    }
   ],
   "source": [
    "#Write code to calculate the total plot size for plots where the pH is less than 5.5\n",
    "total_plot = df[(df['pH'] < 5.5) &(df['Plot_size'])]\n",
    "y = total_plot.sum()\n",
    "print (y)"
   ]
  },
  {
   "cell_type": "code",
   "execution_count": 13,
   "id": "43556b7c",
   "metadata": {},
   "outputs": [
    {
     "name": "stdout",
     "output_type": "stream",
     "text": [
      "Field_ID                                                       2779486\n",
      "Elevation                                                628136.035118\n",
      "Rainfall                                                     1197734.7\n",
      "Min_temperature_C                                              -4504.1\n",
      "Max_temperature_C                                              30894.6\n",
      "pH                                                         5603.898678\n",
      "Pollution_level                                             223.374025\n",
      "Plot_size                                                       3962.4\n",
      "Annual_yield                                               2101.535559\n",
      "Crop_type            coffeepotatobananawheatcassavabananamaizewheat...\n",
      "dtype: object\n"
     ]
    }
   ],
   "source": [
    "y = df.sum()\n",
    "print (y)"
   ]
  },
  {
   "cell_type": "code",
   "execution_count": 14,
   "id": "630a0d6e",
   "metadata": {},
   "outputs": [],
   "source": [
    "import pandas as pd\n",
    "import numpy as np"
   ]
  },
  {
   "cell_type": "code",
   "execution_count": 15,
   "id": "b3970678",
   "metadata": {},
   "outputs": [
    {
     "name": "stdout",
     "output_type": "stream",
     "text": [
      "Number of rows in the filtered dataset: 319\n"
     ]
    }
   ],
   "source": [
    "#Using Pandas, create a dataframe that includes entries \n",
    "#with a 'Min_temperature_C’< -5 and a 'Max_temperature_C' > 30. How many rows are in the filtered dataset?\n",
    "\n",
    "filtered_df = df[(df['Min_temperature_C'] < -5) & (df['Max_temperature_C'] > 30)]\n",
    "\n",
    "num_rows = len(filtered_df)\n",
    "print(\"Number of rows in the filtered dataset:\", num_rows)\n"
   ]
  },
  {
   "cell_type": "code",
   "execution_count": 16,
   "id": "e9c38602",
   "metadata": {},
   "outputs": [
    {
     "name": "stdout",
     "output_type": "stream",
     "text": [
      "Final string: 30.ice\n"
     ]
    }
   ],
   "source": [
    "#If you concatenate the first three digits of the most common ‘Max_temperature_C’ \n",
    "#with the last three letters of the least common 'Crop_type', what string do you get?\n",
    "#Note: Use the first mode if there are multiple modes\n",
    "\n",
    "\n",
    "# Find the most common Max_temperature_C value(s)\n",
    "most_common_max_temp = df['Max_temperature_C'].mode()\n",
    "\n",
    "# Convert the first mode to a string and extract its first three digits\n",
    "first_mode_as_string = str(most_common_max_temp.iloc[0])\n",
    "first_three_digits = first_mode_as_string[:3]\n",
    "\n",
    "# Find the least common Crop_type value and extract its last three letters\n",
    "least_common_crop_type = df['Crop_type'].value_counts().idxmin()\n",
    "last_three_letters = least_common_crop_type[-3:]\n",
    "\n",
    "# Concatenate the extracted parts to get the final string\n",
    "final_string = first_three_digits + last_three_letters\n",
    "print(\"Final string:\", final_string)\n",
    "\n",
    "\n"
   ]
  },
  {
   "cell_type": "code",
   "execution_count": 17,
   "id": "c3677d5c",
   "metadata": {},
   "outputs": [
    {
     "ename": "TypeError",
     "evalue": "'int' object is not iterable",
     "output_type": "error",
     "traceback": [
      "\u001b[1;31m---------------------------------------------------------------------------\u001b[0m",
      "\u001b[1;31mTypeError\u001b[0m                                 Traceback (most recent call last)",
      "Cell \u001b[1;32mIn[17], line 27\u001b[0m\n\u001b[0;32m     24\u001b[0m total_length \u001b[38;5;241m=\u001b[39m sum_crop_type_lengths(df)\n\u001b[0;32m     26\u001b[0m \u001b[38;5;66;03m# Calculate the total sum based on the lengths of unique crop types\u001b[39;00m\n\u001b[1;32m---> 27\u001b[0m total_sum \u001b[38;5;241m=\u001b[39m \u001b[38;5;28msum\u001b[39m(\u001b[38;5;28mlen\u001b[39m(crop_type) \u001b[38;5;28;01mfor\u001b[39;00m crop_type \u001b[38;5;129;01min\u001b[39;00m total_length)\n\u001b[0;32m     29\u001b[0m \u001b[38;5;28mprint\u001b[39m(\u001b[38;5;124m\"\u001b[39m\u001b[38;5;124mTotal sum of integer values for each unique crop type:\u001b[39m\u001b[38;5;124m\"\u001b[39m, total_sum)\n",
      "\u001b[1;31mTypeError\u001b[0m: 'int' object is not iterable"
     ]
    }
   ],
   "source": [
    "def sum_crop_type_lengths(df, unique_crop_types=None):\n",
    "    # Initialize the unique_crop_types set on the first call\n",
    "    if unique_crop_types is None:\n",
    "        unique_crop_types = set()\n",
    "\n",
    "    # Base case: If the DataFrame is empty, return 0\n",
    "    if df.empty:\n",
    "        return 0\n",
    "\n",
    "    # Add unique crop types from the current chunk of data to the set\n",
    "    unique_crop_types.update(df['Crop_type'])\n",
    "\n",
    "    # Recursively call the function with the remaining DataFrame\n",
    "    return sum_crop_type_lengths(df.iloc[1:], unique_crop_types)\n",
    "\n",
    "# Assuming df is your DataFrame containing crop type data\n",
    "# Example DataFrame\n",
    "data = {\n",
    "    'Crop_type': ['Wheat', 'Corn', 'Rice', 'Wheat', 'Rice', 'Corn', 'Corn']\n",
    "}\n",
    "df = pd.DataFrame(data)\n",
    "\n",
    "# Call the recursive function\n",
    "total_length = sum_crop_type_lengths(df)\n",
    "\n",
    "# Calculate the total sum based on the lengths of unique crop types\n",
    "total_sum = sum(len(crop_type) for crop_type in total_length)\n",
    "\n",
    "print(\"Total sum of integer values for each unique crop type:\", total_sum)\n"
   ]
  },
  {
   "cell_type": "code",
   "execution_count": 18,
   "id": "189c45a4",
   "metadata": {},
   "outputs": [
    {
     "ename": "KeyError",
     "evalue": "'Plot_size '",
     "output_type": "error",
     "traceback": [
      "\u001b[1;31m---------------------------------------------------------------------------\u001b[0m",
      "\u001b[1;31mKeyError\u001b[0m                                  Traceback (most recent call last)",
      "File \u001b[1;32mC:\\ProgramData\\anaconda3\\lib\\site-packages\\pandas\\core\\indexes\\base.py:3802\u001b[0m, in \u001b[0;36mIndex.get_loc\u001b[1;34m(self, key, method, tolerance)\u001b[0m\n\u001b[0;32m   3801\u001b[0m \u001b[38;5;28;01mtry\u001b[39;00m:\n\u001b[1;32m-> 3802\u001b[0m     \u001b[38;5;28;01mreturn\u001b[39;00m \u001b[38;5;28;43mself\u001b[39;49m\u001b[38;5;241;43m.\u001b[39;49m\u001b[43m_engine\u001b[49m\u001b[38;5;241;43m.\u001b[39;49m\u001b[43mget_loc\u001b[49m\u001b[43m(\u001b[49m\u001b[43mcasted_key\u001b[49m\u001b[43m)\u001b[49m\n\u001b[0;32m   3803\u001b[0m \u001b[38;5;28;01mexcept\u001b[39;00m \u001b[38;5;167;01mKeyError\u001b[39;00m \u001b[38;5;28;01mas\u001b[39;00m err:\n",
      "File \u001b[1;32mC:\\ProgramData\\anaconda3\\lib\\site-packages\\pandas\\_libs\\index.pyx:138\u001b[0m, in \u001b[0;36mpandas._libs.index.IndexEngine.get_loc\u001b[1;34m()\u001b[0m\n",
      "File \u001b[1;32mC:\\ProgramData\\anaconda3\\lib\\site-packages\\pandas\\_libs\\index.pyx:165\u001b[0m, in \u001b[0;36mpandas._libs.index.IndexEngine.get_loc\u001b[1;34m()\u001b[0m\n",
      "File \u001b[1;32mpandas\\_libs\\hashtable_class_helper.pxi:5745\u001b[0m, in \u001b[0;36mpandas._libs.hashtable.PyObjectHashTable.get_item\u001b[1;34m()\u001b[0m\n",
      "File \u001b[1;32mpandas\\_libs\\hashtable_class_helper.pxi:5753\u001b[0m, in \u001b[0;36mpandas._libs.hashtable.PyObjectHashTable.get_item\u001b[1;34m()\u001b[0m\n",
      "\u001b[1;31mKeyError\u001b[0m: 'Plot_size '",
      "\nThe above exception was the direct cause of the following exception:\n",
      "\u001b[1;31mKeyError\u001b[0m                                  Traceback (most recent call last)",
      "Cell \u001b[1;32mIn[18], line 5\u001b[0m\n\u001b[0;32m      1\u001b[0m \u001b[38;5;28;01mimport\u001b[39;00m \u001b[38;5;21;01mnumpy\u001b[39;00m \u001b[38;5;28;01mas\u001b[39;00m \u001b[38;5;21;01mnp\u001b[39;00m\n\u001b[0;32m      4\u001b[0m \u001b[38;5;66;03m# Calculate the median plot size\u001b[39;00m\n\u001b[1;32m----> 5\u001b[0m median_plot_size \u001b[38;5;241m=\u001b[39m np\u001b[38;5;241m.\u001b[39mmedian(\u001b[43mdf\u001b[49m\u001b[43m[\u001b[49m\u001b[38;5;124;43m'\u001b[39;49m\u001b[38;5;124;43mPlot_size \u001b[39;49m\u001b[38;5;124;43m'\u001b[39;49m\u001b[43m]\u001b[49m)\n\u001b[0;32m      7\u001b[0m \u001b[38;5;66;03m# Filter the DataFrame based on the condition that Plot_size is larger than the median plot size\u001b[39;00m\n\u001b[0;32m      8\u001b[0m filtered_data \u001b[38;5;241m=\u001b[39m df[df[\u001b[38;5;124m'\u001b[39m\u001b[38;5;124mPlot_size \u001b[39m\u001b[38;5;124m'\u001b[39m] \u001b[38;5;241m>\u001b[39m median_plot_size]\n",
      "File \u001b[1;32mC:\\ProgramData\\anaconda3\\lib\\site-packages\\pandas\\core\\frame.py:3807\u001b[0m, in \u001b[0;36mDataFrame.__getitem__\u001b[1;34m(self, key)\u001b[0m\n\u001b[0;32m   3805\u001b[0m \u001b[38;5;28;01mif\u001b[39;00m \u001b[38;5;28mself\u001b[39m\u001b[38;5;241m.\u001b[39mcolumns\u001b[38;5;241m.\u001b[39mnlevels \u001b[38;5;241m>\u001b[39m \u001b[38;5;241m1\u001b[39m:\n\u001b[0;32m   3806\u001b[0m     \u001b[38;5;28;01mreturn\u001b[39;00m \u001b[38;5;28mself\u001b[39m\u001b[38;5;241m.\u001b[39m_getitem_multilevel(key)\n\u001b[1;32m-> 3807\u001b[0m indexer \u001b[38;5;241m=\u001b[39m \u001b[38;5;28;43mself\u001b[39;49m\u001b[38;5;241;43m.\u001b[39;49m\u001b[43mcolumns\u001b[49m\u001b[38;5;241;43m.\u001b[39;49m\u001b[43mget_loc\u001b[49m\u001b[43m(\u001b[49m\u001b[43mkey\u001b[49m\u001b[43m)\u001b[49m\n\u001b[0;32m   3808\u001b[0m \u001b[38;5;28;01mif\u001b[39;00m is_integer(indexer):\n\u001b[0;32m   3809\u001b[0m     indexer \u001b[38;5;241m=\u001b[39m [indexer]\n",
      "File \u001b[1;32mC:\\ProgramData\\anaconda3\\lib\\site-packages\\pandas\\core\\indexes\\base.py:3804\u001b[0m, in \u001b[0;36mIndex.get_loc\u001b[1;34m(self, key, method, tolerance)\u001b[0m\n\u001b[0;32m   3802\u001b[0m     \u001b[38;5;28;01mreturn\u001b[39;00m \u001b[38;5;28mself\u001b[39m\u001b[38;5;241m.\u001b[39m_engine\u001b[38;5;241m.\u001b[39mget_loc(casted_key)\n\u001b[0;32m   3803\u001b[0m \u001b[38;5;28;01mexcept\u001b[39;00m \u001b[38;5;167;01mKeyError\u001b[39;00m \u001b[38;5;28;01mas\u001b[39;00m err:\n\u001b[1;32m-> 3804\u001b[0m     \u001b[38;5;28;01mraise\u001b[39;00m \u001b[38;5;167;01mKeyError\u001b[39;00m(key) \u001b[38;5;28;01mfrom\u001b[39;00m \u001b[38;5;21;01merr\u001b[39;00m\n\u001b[0;32m   3805\u001b[0m \u001b[38;5;28;01mexcept\u001b[39;00m \u001b[38;5;167;01mTypeError\u001b[39;00m:\n\u001b[0;32m   3806\u001b[0m     \u001b[38;5;66;03m# If we have a listlike key, _check_indexing_error will raise\u001b[39;00m\n\u001b[0;32m   3807\u001b[0m     \u001b[38;5;66;03m#  InvalidIndexError. Otherwise we fall through and re-raise\u001b[39;00m\n\u001b[0;32m   3808\u001b[0m     \u001b[38;5;66;03m#  the TypeError.\u001b[39;00m\n\u001b[0;32m   3809\u001b[0m     \u001b[38;5;28mself\u001b[39m\u001b[38;5;241m.\u001b[39m_check_indexing_error(key)\n",
      "\u001b[1;31mKeyError\u001b[0m: 'Plot_size '"
     ]
    }
   ],
   "source": [
    "import numpy as np\n",
    "\n",
    "\n",
    "# Calculate the median plot size\n",
    "median_plot_size = np.median(df['Plot_size '])\n",
    "\n",
    "# Filter the DataFrame based on the condition that Plot_size is larger than the median plot size\n",
    "filtered_data = df[df['Plot_size '] > median_plot_size]\n",
    "\n",
    "# Calculate the standard deviation of Rainfall for the filtered data\n",
    "std_dev_rainfall = np.std(filtered_data['Rainfall'])\n",
    "\n",
    "# Round the standard deviation to 2 decimal places\n",
    "std_dev_rainfall_rounded = round(std_dev_rainfall, 2)\n",
    "\n",
    "print(\"Standard deviation of Rainfall for plots larger than median plot size:\", std_dev_rainfall_rounded)\n"
   ]
  },
  {
   "cell_type": "code",
   "execution_count": null,
   "id": "b9254066",
   "metadata": {},
   "outputs": [],
   "source": []
  }
 ],
 "metadata": {
  "kernelspec": {
   "display_name": "Python 3 (ipykernel)",
   "language": "python",
   "name": "python3"
  },
  "language_info": {
   "codemirror_mode": {
    "name": "ipython",
    "version": 3
   },
   "file_extension": ".py",
   "mimetype": "text/x-python",
   "name": "python",
   "nbconvert_exporter": "python",
   "pygments_lexer": "ipython3",
   "version": "3.10.9"
  }
 },
 "nbformat": 4,
 "nbformat_minor": 5
}
